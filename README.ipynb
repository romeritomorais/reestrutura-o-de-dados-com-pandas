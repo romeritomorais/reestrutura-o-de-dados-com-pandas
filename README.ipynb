{
 "cells": [
  {
   "cell_type": "code",
   "execution_count": 44,
   "metadata": {},
   "outputs": [
    {
     "name": "stderr",
     "output_type": "stream",
     "text": [
      "b'Skipping line 41088: expected 11 fields, saw 12\\nSkipping line 304239: expected 11 fields, saw 12\\n'\n"
     ]
    }
   ],
   "source": [
    "import pandas\n",
    "\n",
    "df = pandas.read_csv(\"apps.csv\", encoding='iso-8859-1', \n",
    "                     error_bad_lines=False, \n",
    "                     low_memory=False)"
   ]
  },
  {
   "cell_type": "code",
   "execution_count": 45,
   "metadata": {},
   "outputs": [
    {
     "data": {
      "text/html": [
       "<div>\n",
       "<style scoped>\n",
       "    .dataframe tbody tr th:only-of-type {\n",
       "        vertical-align: middle;\n",
       "    }\n",
       "\n",
       "    .dataframe tbody tr th {\n",
       "        vertical-align: top;\n",
       "    }\n",
       "\n",
       "    .dataframe thead th {\n",
       "        text-align: right;\n",
       "    }\n",
       "</style>\n",
       "<table border=\"1\" class=\"dataframe\">\n",
       "  <thead>\n",
       "    <tr style=\"text-align: right;\">\n",
       "      <th></th>\n",
       "      <th>name</th>\n",
       "      <th>datePublished</th>\n",
       "      <th>numDownloadsMin</th>\n",
       "      <th>fileSize</th>\n",
       "      <th>...</th>\n",
       "      <th>softwareVersion</th>\n",
       "      <th>ratingCount</th>\n",
       "      <th>dateCrawled</th>\n",
       "      <th>url</th>\n",
       "    </tr>\n",
       "  </thead>\n",
       "  <tbody>\n",
       "    <tr>\n",
       "      <th>0</th>\n",
       "      <td>FSP Power App</td>\n",
       "      <td>2. Oktober 2013</td>\n",
       "      <td>500</td>\n",
       "      <td>12M</td>\n",
       "      <td>...</td>\n",
       "      <td>1.0.6</td>\n",
       "      <td>31</td>\n",
       "      <td>2014-10-05 00:00:00</td>\n",
       "      <td>https://play.google.com/store/apps/details?id=...</td>\n",
       "    </tr>\n",
       "    <tr>\n",
       "      <th>1</th>\n",
       "      <td>FSP Autofahrer-App</td>\n",
       "      <td>5. April 2012</td>\n",
       "      <td>500</td>\n",
       "      <td>1,3M</td>\n",
       "      <td>...</td>\n",
       "      <td>1.0.4</td>\n",
       "      <td>11</td>\n",
       "      <td>2014-10-05 00:00:00</td>\n",
       "      <td>https://play.google.com/store/apps/details?id=...</td>\n",
       "    </tr>\n",
       "    <tr>\n",
       "      <th>2</th>\n",
       "      <td>Art-picnic FSP</td>\n",
       "      <td>25. Juli 2014</td>\n",
       "      <td>500</td>\n",
       "      <td>2,7M</td>\n",
       "      <td>...</td>\n",
       "      <td>1.5</td>\n",
       "      <td>18</td>\n",
       "      <td>2014-10-05 00:00:00</td>\n",
       "      <td>https://play.google.com/store/apps/details?id=...</td>\n",
       "    </tr>\n",
       "    <tr>\n",
       "      <th>3</th>\n",
       "      <td>Tennis F.S.P</td>\n",
       "      <td>19. Juli 2013</td>\n",
       "      <td>1</td>\n",
       "      <td>4,5M</td>\n",
       "      <td>...</td>\n",
       "      <td>1.1</td>\n",
       "      <td>0</td>\n",
       "      <td>2014-10-05 00:00:00</td>\n",
       "      <td>https://play.google.com/store/apps/details?id=...</td>\n",
       "    </tr>\n",
       "    <tr>\n",
       "      <th>4</th>\n",
       "      <td>Super Piano FREE HD</td>\n",
       "      <td>19. Januar 2014</td>\n",
       "      <td>100000</td>\n",
       "      <td>4,1M</td>\n",
       "      <td>...</td>\n",
       "      <td>5.9</td>\n",
       "      <td>1545</td>\n",
       "      <td>2014-10-05 00:00:00</td>\n",
       "      <td>https://play.google.com/store/apps/details?id=...</td>\n",
       "    </tr>\n",
       "  </tbody>\n",
       "</table>\n",
       "<p>5 rows × 11 columns</p>\n",
       "</div>"
      ],
      "text/plain": [
       "                  name    datePublished numDownloadsMin fileSize  ...  \\\n",
       "0        FSP Power App  2. Oktober 2013             500      12M  ...   \n",
       "1   FSP Autofahrer-App    5. April 2012             500     1,3M  ...   \n",
       "2       Art-picnic FSP    25. Juli 2014             500     2,7M  ...   \n",
       "3         Tennis F.S.P    19. Juli 2013               1     4,5M  ...   \n",
       "4  Super Piano FREE HD  19. Januar 2014          100000     4,1M  ...   \n",
       "\n",
       "  softwareVersion  ratingCount          dateCrawled  \\\n",
       "0           1.0.6           31  2014-10-05 00:00:00   \n",
       "1           1.0.4           11  2014-10-05 00:00:00   \n",
       "2             1.5           18  2014-10-05 00:00:00   \n",
       "3             1.1            0  2014-10-05 00:00:00   \n",
       "4             5.9         1545  2014-10-05 00:00:00   \n",
       "\n",
       "                                                 url  \n",
       "0  https://play.google.com/store/apps/details?id=...  \n",
       "1  https://play.google.com/store/apps/details?id=...  \n",
       "2  https://play.google.com/store/apps/details?id=...  \n",
       "3  https://play.google.com/store/apps/details?id=...  \n",
       "4  https://play.google.com/store/apps/details?id=...  \n",
       "\n",
       "[5 rows x 11 columns]"
      ]
     },
     "execution_count": 45,
     "metadata": {},
     "output_type": "execute_result"
    }
   ],
   "source": [
    "pandas.set_option('max_columns', 8, 'max_rows', 10)\n",
    "df.head()"
   ]
  },
  {
   "cell_type": "code",
   "execution_count": 46,
   "metadata": {},
   "outputs": [
    {
     "data": {
      "text/html": [
       "<div>\n",
       "<style scoped>\n",
       "    .dataframe tbody tr th:only-of-type {\n",
       "        vertical-align: middle;\n",
       "    }\n",
       "\n",
       "    .dataframe tbody tr th {\n",
       "        vertical-align: top;\n",
       "    }\n",
       "\n",
       "    .dataframe thead th {\n",
       "        text-align: right;\n",
       "    }\n",
       "</style>\n",
       "<table border=\"1\" class=\"dataframe\">\n",
       "  <thead>\n",
       "    <tr style=\"text-align: right;\">\n",
       "      <th></th>\n",
       "      <th>app</th>\n",
       "      <th>numDownloads</th>\n",
       "      <th>size</th>\n",
       "      <th>price</th>\n",
       "      <th>aggregateRating</th>\n",
       "      <th>ratingCount</th>\n",
       "    </tr>\n",
       "  </thead>\n",
       "  <tbody>\n",
       "    <tr>\n",
       "      <th>0</th>\n",
       "      <td>FSP Power App</td>\n",
       "      <td>500</td>\n",
       "      <td>12M</td>\n",
       "      <td>0.00</td>\n",
       "      <td>3.9677419662475586</td>\n",
       "      <td>31</td>\n",
       "    </tr>\n",
       "    <tr>\n",
       "      <th>1</th>\n",
       "      <td>FSP Autofahrer-App</td>\n",
       "      <td>500</td>\n",
       "      <td>1,3M</td>\n",
       "      <td>0.00</td>\n",
       "      <td>3.8181817531585693</td>\n",
       "      <td>11</td>\n",
       "    </tr>\n",
       "    <tr>\n",
       "      <th>2</th>\n",
       "      <td>Art-picnic FSP</td>\n",
       "      <td>500</td>\n",
       "      <td>2,7M</td>\n",
       "      <td>0.00</td>\n",
       "      <td>4.722222328186035</td>\n",
       "      <td>18</td>\n",
       "    </tr>\n",
       "    <tr>\n",
       "      <th>3</th>\n",
       "      <td>Tennis F.S.P</td>\n",
       "      <td>1</td>\n",
       "      <td>4,5M</td>\n",
       "      <td>0.00</td>\n",
       "      <td>0</td>\n",
       "      <td>0</td>\n",
       "    </tr>\n",
       "    <tr>\n",
       "      <th>4</th>\n",
       "      <td>Super Piano FREE HD</td>\n",
       "      <td>100000</td>\n",
       "      <td>4,1M</td>\n",
       "      <td>0.00</td>\n",
       "      <td>3.9825241565704346</td>\n",
       "      <td>1545</td>\n",
       "    </tr>\n",
       "    <tr>\n",
       "      <th>...</th>\n",
       "      <td>...</td>\n",
       "      <td>...</td>\n",
       "      <td>...</td>\n",
       "      <td>...</td>\n",
       "      <td>...</td>\n",
       "      <td>...</td>\n",
       "    </tr>\n",
       "    <tr>\n",
       "      <th>403903</th>\n",
       "      <td>one.com</td>\n",
       "      <td>100</td>\n",
       "      <td>14M</td>\n",
       "      <td>1.00</td>\n",
       "      <td>1.5</td>\n",
       "      <td>2</td>\n",
       "    </tr>\n",
       "    <tr>\n",
       "      <th>403904</th>\n",
       "      <td>Fahrtenbuch</td>\n",
       "      <td>1000</td>\n",
       "      <td>13M</td>\n",
       "      <td>3.20</td>\n",
       "      <td>3.7555556297302246</td>\n",
       "      <td>45</td>\n",
       "    </tr>\n",
       "    <tr>\n",
       "      <th>403905</th>\n",
       "      <td>TopAdressen</td>\n",
       "      <td>100</td>\n",
       "      <td>12M</td>\n",
       "      <td>5.49</td>\n",
       "      <td>3</td>\n",
       "      <td>1</td>\n",
       "    </tr>\n",
       "    <tr>\n",
       "      <th>403906</th>\n",
       "      <td>Dictate + Connect (Dictamus)</td>\n",
       "      <td>500</td>\n",
       "      <td>13M</td>\n",
       "      <td>9.98</td>\n",
       "      <td>3.2857143878936768</td>\n",
       "      <td>35</td>\n",
       "    </tr>\n",
       "    <tr>\n",
       "      <th>403907</th>\n",
       "      <td>top Unkraut 2014</td>\n",
       "      <td>500</td>\n",
       "      <td>45M</td>\n",
       "      <td>14.49</td>\n",
       "      <td>4.111111164093018</td>\n",
       "      <td>9</td>\n",
       "    </tr>\n",
       "  </tbody>\n",
       "</table>\n",
       "<p>403908 rows × 6 columns</p>\n",
       "</div>"
      ],
      "text/plain": [
       "                                 app numDownloads  size  price  \\\n",
       "0                      FSP Power App          500   12M   0.00   \n",
       "1                 FSP Autofahrer-App          500  1,3M   0.00   \n",
       "2                     Art-picnic FSP          500  2,7M   0.00   \n",
       "3                       Tennis F.S.P            1  4,5M   0.00   \n",
       "4                Super Piano FREE HD       100000  4,1M   0.00   \n",
       "...                              ...          ...   ...    ...   \n",
       "403903                       one.com          100   14M   1.00   \n",
       "403904                   Fahrtenbuch         1000   13M   3.20   \n",
       "403905                   TopAdressen          100   12M   5.49   \n",
       "403906  Dictate + Connect (Dictamus)          500   13M   9.98   \n",
       "403907              top Unkraut 2014          500   45M  14.49   \n",
       "\n",
       "           aggregateRating ratingCount  \n",
       "0       3.9677419662475586          31  \n",
       "1       3.8181817531585693          11  \n",
       "2        4.722222328186035          18  \n",
       "3                        0           0  \n",
       "4       3.9825241565704346        1545  \n",
       "...                    ...         ...  \n",
       "403903                 1.5           2  \n",
       "403904  3.7555556297302246          45  \n",
       "403905                   3           1  \n",
       "403906  3.2857143878936768          35  \n",
       "403907   4.111111164093018           9  \n",
       "\n",
       "[403908 rows x 6 columns]"
      ]
     },
     "execution_count": 46,
     "metadata": {},
     "output_type": "execute_result"
    }
   ],
   "source": [
    "df01 = df[['name','numDownloadsMin','fileSize','price','aggregateRating','ratingCount']]\n",
    "df01.columns = ['app','numDownloads','size','price','aggregateRating','ratingCount']\n",
    "df01"
   ]
  },
  {
   "cell_type": "code",
   "execution_count": 47,
   "metadata": {},
   "outputs": [
    {
     "data": {
      "text/plain": [
       "object     5\n",
       "float64    1\n",
       "dtype: int64"
      ]
     },
     "execution_count": 47,
     "metadata": {},
     "output_type": "execute_result"
    }
   ],
   "source": [
    "df01.dtypes.value_counts()"
   ]
  },
  {
   "cell_type": "code",
   "execution_count": 48,
   "metadata": {},
   "outputs": [
    {
     "data": {
      "text/html": [
       "<div>\n",
       "<style scoped>\n",
       "    .dataframe tbody tr th:only-of-type {\n",
       "        vertical-align: middle;\n",
       "    }\n",
       "\n",
       "    .dataframe tbody tr th {\n",
       "        vertical-align: top;\n",
       "    }\n",
       "\n",
       "    .dataframe thead th {\n",
       "        text-align: right;\n",
       "    }\n",
       "</style>\n",
       "<table border=\"1\" class=\"dataframe\">\n",
       "  <thead>\n",
       "    <tr style=\"text-align: right;\">\n",
       "      <th></th>\n",
       "      <th>app</th>\n",
       "      <th>numDownloads</th>\n",
       "      <th>size</th>\n",
       "      <th>price</th>\n",
       "      <th>aggregateRating</th>\n",
       "      <th>ratingCount</th>\n",
       "    </tr>\n",
       "  </thead>\n",
       "  <tbody>\n",
       "    <tr>\n",
       "      <th>0</th>\n",
       "      <td>FSP Power App</td>\n",
       "      <td>500</td>\n",
       "      <td>12M</td>\n",
       "      <td>0.0</td>\n",
       "      <td>3.9677419662475586</td>\n",
       "      <td>31</td>\n",
       "    </tr>\n",
       "    <tr>\n",
       "      <th>1</th>\n",
       "      <td>FSP Autofahrer-App</td>\n",
       "      <td>500</td>\n",
       "      <td>1,3M</td>\n",
       "      <td>0.0</td>\n",
       "      <td>3.8181817531585693</td>\n",
       "      <td>11</td>\n",
       "    </tr>\n",
       "    <tr>\n",
       "      <th>2</th>\n",
       "      <td>Art-picnic FSP</td>\n",
       "      <td>500</td>\n",
       "      <td>2,7M</td>\n",
       "      <td>0.0</td>\n",
       "      <td>4.722222328186035</td>\n",
       "      <td>18</td>\n",
       "    </tr>\n",
       "    <tr>\n",
       "      <th>3</th>\n",
       "      <td>Tennis F.S.P</td>\n",
       "      <td>1</td>\n",
       "      <td>4,5M</td>\n",
       "      <td>0.0</td>\n",
       "      <td>0</td>\n",
       "      <td>0</td>\n",
       "    </tr>\n",
       "    <tr>\n",
       "      <th>4</th>\n",
       "      <td>Super Piano FREE HD</td>\n",
       "      <td>100000</td>\n",
       "      <td>4,1M</td>\n",
       "      <td>0.0</td>\n",
       "      <td>3.9825241565704346</td>\n",
       "      <td>1545</td>\n",
       "    </tr>\n",
       "  </tbody>\n",
       "</table>\n",
       "</div>"
      ],
      "text/plain": [
       "                   app numDownloads  size  price     aggregateRating  \\\n",
       "0        FSP Power App          500   12M    0.0  3.9677419662475586   \n",
       "1   FSP Autofahrer-App          500  1,3M    0.0  3.8181817531585693   \n",
       "2       Art-picnic FSP          500  2,7M    0.0   4.722222328186035   \n",
       "3         Tennis F.S.P            1  4,5M    0.0                   0   \n",
       "4  Super Piano FREE HD       100000  4,1M    0.0  3.9825241565704346   \n",
       "\n",
       "  ratingCount  \n",
       "0          31  \n",
       "1          11  \n",
       "2          18  \n",
       "3           0  \n",
       "4        1545  "
      ]
     },
     "execution_count": 48,
     "metadata": {},
     "output_type": "execute_result"
    }
   ],
   "source": [
    "df01.drop([126036,141410,259956,402971,403239,403531,403535,403590,403594,403616], inplace=True)\n",
    "df01.reset_index()\n",
    "df01.head()"
   ]
  },
  {
   "cell_type": "code",
   "execution_count": 49,
   "metadata": {},
   "outputs": [],
   "source": [
    "df01.price = df01.price.astype(float)\n",
    "df01.ratingCount = df01.ratingCount.astype(int)\n",
    "df01.numDownloads = df01.numDownloads.astype(int)\n",
    "df01.aggregateRating = df01.aggregateRating.astype(float)"
   ]
  },
  {
   "cell_type": "code",
   "execution_count": 50,
   "metadata": {},
   "outputs": [
    {
     "data": {
      "text/plain": [
       "int64      2\n",
       "float64    2\n",
       "object     2\n",
       "dtype: int64"
      ]
     },
     "execution_count": 50,
     "metadata": {},
     "output_type": "execute_result"
    }
   ],
   "source": [
    "df01.dtypes.value_counts()"
   ]
  },
  {
   "cell_type": "code",
   "execution_count": 51,
   "metadata": {},
   "outputs": [
    {
     "data": {
      "text/plain": [
       "app                 object\n",
       "numDownloads         int64\n",
       "size                object\n",
       "price              float64\n",
       "aggregateRating    float64\n",
       "ratingCount          int64\n",
       "dtype: object"
      ]
     },
     "execution_count": 51,
     "metadata": {},
     "output_type": "execute_result"
    }
   ],
   "source": [
    "df01.dtypes"
   ]
  },
  {
   "cell_type": "code",
   "execution_count": null,
   "metadata": {},
   "outputs": [],
   "source": [
    "df01['size'] = df01['size'].str.replace(',', '.')\n",
    "df01['size'] = df01['size'].str.replace('M', '')"
   ]
  },
  {
   "cell_type": "code",
   "execution_count": 53,
   "metadata": {},
   "outputs": [
    {
     "data": {
      "text/html": [
       "<div>\n",
       "<style scoped>\n",
       "    .dataframe tbody tr th:only-of-type {\n",
       "        vertical-align: middle;\n",
       "    }\n",
       "\n",
       "    .dataframe tbody tr th {\n",
       "        vertical-align: top;\n",
       "    }\n",
       "\n",
       "    .dataframe thead th {\n",
       "        text-align: right;\n",
       "    }\n",
       "</style>\n",
       "<table border=\"1\" class=\"dataframe\">\n",
       "  <thead>\n",
       "    <tr style=\"text-align: right;\">\n",
       "      <th></th>\n",
       "      <th>app</th>\n",
       "      <th>numDownloads</th>\n",
       "      <th>size</th>\n",
       "      <th>price</th>\n",
       "      <th>aggregateRating</th>\n",
       "      <th>ratingCount</th>\n",
       "    </tr>\n",
       "  </thead>\n",
       "  <tbody>\n",
       "    <tr>\n",
       "      <th>0</th>\n",
       "      <td>FSP Power App</td>\n",
       "      <td>500</td>\n",
       "      <td>12</td>\n",
       "      <td>0.00</td>\n",
       "      <td>3.967742</td>\n",
       "      <td>31</td>\n",
       "    </tr>\n",
       "    <tr>\n",
       "      <th>1</th>\n",
       "      <td>FSP Autofahrer-App</td>\n",
       "      <td>500</td>\n",
       "      <td>1.3</td>\n",
       "      <td>0.00</td>\n",
       "      <td>3.818182</td>\n",
       "      <td>11</td>\n",
       "    </tr>\n",
       "    <tr>\n",
       "      <th>2</th>\n",
       "      <td>Art-picnic FSP</td>\n",
       "      <td>500</td>\n",
       "      <td>2.7</td>\n",
       "      <td>0.00</td>\n",
       "      <td>4.722222</td>\n",
       "      <td>18</td>\n",
       "    </tr>\n",
       "    <tr>\n",
       "      <th>3</th>\n",
       "      <td>Tennis F.S.P</td>\n",
       "      <td>1</td>\n",
       "      <td>4.5</td>\n",
       "      <td>0.00</td>\n",
       "      <td>0.000000</td>\n",
       "      <td>0</td>\n",
       "    </tr>\n",
       "    <tr>\n",
       "      <th>4</th>\n",
       "      <td>Super Piano FREE HD</td>\n",
       "      <td>100000</td>\n",
       "      <td>4.1</td>\n",
       "      <td>0.00</td>\n",
       "      <td>3.982524</td>\n",
       "      <td>1545</td>\n",
       "    </tr>\n",
       "    <tr>\n",
       "      <th>...</th>\n",
       "      <td>...</td>\n",
       "      <td>...</td>\n",
       "      <td>...</td>\n",
       "      <td>...</td>\n",
       "      <td>...</td>\n",
       "      <td>...</td>\n",
       "    </tr>\n",
       "    <tr>\n",
       "      <th>403903</th>\n",
       "      <td>one.com</td>\n",
       "      <td>100</td>\n",
       "      <td>14</td>\n",
       "      <td>1.00</td>\n",
       "      <td>1.500000</td>\n",
       "      <td>2</td>\n",
       "    </tr>\n",
       "    <tr>\n",
       "      <th>403904</th>\n",
       "      <td>Fahrtenbuch</td>\n",
       "      <td>1000</td>\n",
       "      <td>13</td>\n",
       "      <td>3.20</td>\n",
       "      <td>3.755556</td>\n",
       "      <td>45</td>\n",
       "    </tr>\n",
       "    <tr>\n",
       "      <th>403905</th>\n",
       "      <td>TopAdressen</td>\n",
       "      <td>100</td>\n",
       "      <td>12</td>\n",
       "      <td>5.49</td>\n",
       "      <td>3.000000</td>\n",
       "      <td>1</td>\n",
       "    </tr>\n",
       "    <tr>\n",
       "      <th>403906</th>\n",
       "      <td>Dictate + Connect (Dictamus)</td>\n",
       "      <td>500</td>\n",
       "      <td>13</td>\n",
       "      <td>9.98</td>\n",
       "      <td>3.285714</td>\n",
       "      <td>35</td>\n",
       "    </tr>\n",
       "    <tr>\n",
       "      <th>403907</th>\n",
       "      <td>top Unkraut 2014</td>\n",
       "      <td>500</td>\n",
       "      <td>45</td>\n",
       "      <td>14.49</td>\n",
       "      <td>4.111111</td>\n",
       "      <td>9</td>\n",
       "    </tr>\n",
       "  </tbody>\n",
       "</table>\n",
       "<p>403898 rows × 6 columns</p>\n",
       "</div>"
      ],
      "text/plain": [
       "                                 app  numDownloads size  price  \\\n",
       "0                      FSP Power App           500   12   0.00   \n",
       "1                 FSP Autofahrer-App           500  1.3   0.00   \n",
       "2                     Art-picnic FSP           500  2.7   0.00   \n",
       "3                       Tennis F.S.P             1  4.5   0.00   \n",
       "4                Super Piano FREE HD        100000  4.1   0.00   \n",
       "...                              ...           ...  ...    ...   \n",
       "403903                       one.com           100   14   1.00   \n",
       "403904                   Fahrtenbuch          1000   13   3.20   \n",
       "403905                   TopAdressen           100   12   5.49   \n",
       "403906  Dictate + Connect (Dictamus)           500   13   9.98   \n",
       "403907              top Unkraut 2014           500   45  14.49   \n",
       "\n",
       "        aggregateRating  ratingCount  \n",
       "0              3.967742           31  \n",
       "1              3.818182           11  \n",
       "2              4.722222           18  \n",
       "3              0.000000            0  \n",
       "4              3.982524         1545  \n",
       "...                 ...          ...  \n",
       "403903         1.500000            2  \n",
       "403904         3.755556           45  \n",
       "403905         3.000000            1  \n",
       "403906         3.285714           35  \n",
       "403907         4.111111            9  \n",
       "\n",
       "[403898 rows x 6 columns]"
      ]
     },
     "execution_count": 53,
     "metadata": {},
     "output_type": "execute_result"
    }
   ],
   "source": [
    "df01"
   ]
  },
  {
   "cell_type": "code",
   "execution_count": 54,
   "metadata": {},
   "outputs": [
    {
     "data": {
      "text/html": [
       "<div>\n",
       "<style scoped>\n",
       "    .dataframe tbody tr th:only-of-type {\n",
       "        vertical-align: middle;\n",
       "    }\n",
       "\n",
       "    .dataframe tbody tr th {\n",
       "        vertical-align: top;\n",
       "    }\n",
       "\n",
       "    .dataframe thead th {\n",
       "        text-align: right;\n",
       "    }\n",
       "</style>\n",
       "<table border=\"1\" class=\"dataframe\">\n",
       "  <thead>\n",
       "    <tr style=\"text-align: right;\">\n",
       "      <th></th>\n",
       "      <th>app</th>\n",
       "      <th>numDownloads</th>\n",
       "      <th>size</th>\n",
       "      <th>price</th>\n",
       "      <th>aggregateRating</th>\n",
       "      <th>ratingCount</th>\n",
       "    </tr>\n",
       "  </thead>\n",
       "  <tbody>\n",
       "    <tr>\n",
       "      <th>0</th>\n",
       "      <td>FSP Power App</td>\n",
       "      <td>500</td>\n",
       "      <td>12</td>\n",
       "      <td>0.00</td>\n",
       "      <td>3.97</td>\n",
       "      <td>31</td>\n",
       "    </tr>\n",
       "    <tr>\n",
       "      <th>1</th>\n",
       "      <td>FSP Autofahrer-App</td>\n",
       "      <td>500</td>\n",
       "      <td>1.3</td>\n",
       "      <td>0.00</td>\n",
       "      <td>3.82</td>\n",
       "      <td>11</td>\n",
       "    </tr>\n",
       "    <tr>\n",
       "      <th>2</th>\n",
       "      <td>Art-picnic FSP</td>\n",
       "      <td>500</td>\n",
       "      <td>2.7</td>\n",
       "      <td>0.00</td>\n",
       "      <td>4.72</td>\n",
       "      <td>18</td>\n",
       "    </tr>\n",
       "    <tr>\n",
       "      <th>3</th>\n",
       "      <td>Tennis F.S.P</td>\n",
       "      <td>1</td>\n",
       "      <td>4.5</td>\n",
       "      <td>0.00</td>\n",
       "      <td>0.00</td>\n",
       "      <td>0</td>\n",
       "    </tr>\n",
       "    <tr>\n",
       "      <th>4</th>\n",
       "      <td>Super Piano FREE HD</td>\n",
       "      <td>100000</td>\n",
       "      <td>4.1</td>\n",
       "      <td>0.00</td>\n",
       "      <td>3.98</td>\n",
       "      <td>1545</td>\n",
       "    </tr>\n",
       "    <tr>\n",
       "      <th>...</th>\n",
       "      <td>...</td>\n",
       "      <td>...</td>\n",
       "      <td>...</td>\n",
       "      <td>...</td>\n",
       "      <td>...</td>\n",
       "      <td>...</td>\n",
       "    </tr>\n",
       "    <tr>\n",
       "      <th>403903</th>\n",
       "      <td>one.com</td>\n",
       "      <td>100</td>\n",
       "      <td>14</td>\n",
       "      <td>1.00</td>\n",
       "      <td>1.50</td>\n",
       "      <td>2</td>\n",
       "    </tr>\n",
       "    <tr>\n",
       "      <th>403904</th>\n",
       "      <td>Fahrtenbuch</td>\n",
       "      <td>1000</td>\n",
       "      <td>13</td>\n",
       "      <td>3.20</td>\n",
       "      <td>3.76</td>\n",
       "      <td>45</td>\n",
       "    </tr>\n",
       "    <tr>\n",
       "      <th>403905</th>\n",
       "      <td>TopAdressen</td>\n",
       "      <td>100</td>\n",
       "      <td>12</td>\n",
       "      <td>5.49</td>\n",
       "      <td>3.00</td>\n",
       "      <td>1</td>\n",
       "    </tr>\n",
       "    <tr>\n",
       "      <th>403906</th>\n",
       "      <td>Dictate + Connect (Dictamus)</td>\n",
       "      <td>500</td>\n",
       "      <td>13</td>\n",
       "      <td>9.98</td>\n",
       "      <td>3.29</td>\n",
       "      <td>35</td>\n",
       "    </tr>\n",
       "    <tr>\n",
       "      <th>403907</th>\n",
       "      <td>top Unkraut 2014</td>\n",
       "      <td>500</td>\n",
       "      <td>45</td>\n",
       "      <td>14.49</td>\n",
       "      <td>4.11</td>\n",
       "      <td>9</td>\n",
       "    </tr>\n",
       "  </tbody>\n",
       "</table>\n",
       "<p>403898 rows × 6 columns</p>\n",
       "</div>"
      ],
      "text/plain": [
       "                                 app  numDownloads size  price  \\\n",
       "0                      FSP Power App           500   12   0.00   \n",
       "1                 FSP Autofahrer-App           500  1.3   0.00   \n",
       "2                     Art-picnic FSP           500  2.7   0.00   \n",
       "3                       Tennis F.S.P             1  4.5   0.00   \n",
       "4                Super Piano FREE HD        100000  4.1   0.00   \n",
       "...                              ...           ...  ...    ...   \n",
       "403903                       one.com           100   14   1.00   \n",
       "403904                   Fahrtenbuch          1000   13   3.20   \n",
       "403905                   TopAdressen           100   12   5.49   \n",
       "403906  Dictate + Connect (Dictamus)           500   13   9.98   \n",
       "403907              top Unkraut 2014           500   45  14.49   \n",
       "\n",
       "        aggregateRating  ratingCount  \n",
       "0                  3.97           31  \n",
       "1                  3.82           11  \n",
       "2                  4.72           18  \n",
       "3                  0.00            0  \n",
       "4                  3.98         1545  \n",
       "...                 ...          ...  \n",
       "403903             1.50            2  \n",
       "403904             3.76           45  \n",
       "403905             3.00            1  \n",
       "403906             3.29           35  \n",
       "403907             4.11            9  \n",
       "\n",
       "[403898 rows x 6 columns]"
      ]
     },
     "execution_count": 54,
     "metadata": {},
     "output_type": "execute_result"
    }
   ],
   "source": [
    "df01.aggregateRating = round(df01.aggregateRating,2)\n",
    "app = df01\n",
    "app"
   ]
  },
  {
   "cell_type": "code",
   "execution_count": 59,
   "metadata": {},
   "outputs": [
    {
     "data": {
      "text/html": [
       "<div>\n",
       "<style scoped>\n",
       "    .dataframe tbody tr th:only-of-type {\n",
       "        vertical-align: middle;\n",
       "    }\n",
       "\n",
       "    .dataframe tbody tr th {\n",
       "        vertical-align: top;\n",
       "    }\n",
       "\n",
       "    .dataframe thead th {\n",
       "        text-align: right;\n",
       "    }\n",
       "</style>\n",
       "<table border=\"1\" class=\"dataframe\">\n",
       "  <thead>\n",
       "    <tr style=\"text-align: right;\">\n",
       "      <th></th>\n",
       "      <th>count</th>\n",
       "      <th>mean</th>\n",
       "      <th>std</th>\n",
       "      <th>min</th>\n",
       "      <th>25%</th>\n",
       "      <th>50%</th>\n",
       "      <th>75%</th>\n",
       "      <th>max</th>\n",
       "    </tr>\n",
       "  </thead>\n",
       "  <tbody>\n",
       "    <tr>\n",
       "      <th>numDownloads</th>\n",
       "      <td>403898.0</td>\n",
       "      <td>116205.960242</td>\n",
       "      <td>3.986314e+06</td>\n",
       "      <td>0.0</td>\n",
       "      <td>100.00</td>\n",
       "      <td>1000.0</td>\n",
       "      <td>10000.00</td>\n",
       "      <td>1.000000e+09</td>\n",
       "    </tr>\n",
       "    <tr>\n",
       "      <th>price</th>\n",
       "      <td>403898.0</td>\n",
       "      <td>0.444614</td>\n",
       "      <td>2.911938e+00</td>\n",
       "      <td>0.0</td>\n",
       "      <td>0.00</td>\n",
       "      <td>0.0</td>\n",
       "      <td>0.00</td>\n",
       "      <td>1.990000e+02</td>\n",
       "    </tr>\n",
       "    <tr>\n",
       "      <th>aggregateRating</th>\n",
       "      <td>403898.0</td>\n",
       "      <td>3.451070</td>\n",
       "      <td>1.579695e+00</td>\n",
       "      <td>0.0</td>\n",
       "      <td>3.31</td>\n",
       "      <td>4.0</td>\n",
       "      <td>4.44</td>\n",
       "      <td>5.000000e+00</td>\n",
       "    </tr>\n",
       "    <tr>\n",
       "      <th>ratingCount</th>\n",
       "      <td>403898.0</td>\n",
       "      <td>2669.691207</td>\n",
       "      <td>7.726506e+04</td>\n",
       "      <td>0.0</td>\n",
       "      <td>2.00</td>\n",
       "      <td>16.0</td>\n",
       "      <td>161.00</td>\n",
       "      <td>2.171153e+07</td>\n",
       "    </tr>\n",
       "  </tbody>\n",
       "</table>\n",
       "</div>"
      ],
      "text/plain": [
       "                    count           mean           std  min     25%     50%  \\\n",
       "numDownloads     403898.0  116205.960242  3.986314e+06  0.0  100.00  1000.0   \n",
       "price            403898.0       0.444614  2.911938e+00  0.0    0.00     0.0   \n",
       "aggregateRating  403898.0       3.451070  1.579695e+00  0.0    3.31     4.0   \n",
       "ratingCount      403898.0    2669.691207  7.726506e+04  0.0    2.00    16.0   \n",
       "\n",
       "                      75%           max  \n",
       "numDownloads     10000.00  1.000000e+09  \n",
       "price                0.00  1.990000e+02  \n",
       "aggregateRating      4.44  5.000000e+00  \n",
       "ratingCount        161.00  2.171153e+07  "
      ]
     },
     "execution_count": 59,
     "metadata": {},
     "output_type": "execute_result"
    }
   ],
   "source": [
    "app.describe().T"
   ]
  },
  {
   "cell_type": "code",
   "execution_count": 76,
   "metadata": {},
   "outputs": [],
   "source": [
    "valores = app.values\n",
    "colunas = app.columns\n",
    "indices = app.index\n",
    "downloads = app.numDownloads.values\n",
    "preco = app.price.values"
   ]
  },
  {
   "cell_type": "code",
   "execution_count": 71,
   "metadata": {},
   "outputs": [
    {
     "data": {
      "text/plain": [
       "array([['FSP Power App', 500, '12', 0.0, 3.97, 31],\n",
       "       ['FSP Autofahrer-App', 500, '1.3', 0.0, 3.82, 11],\n",
       "       ['Art-picnic FSP', 500, '2.7', 0.0, 4.72, 18],\n",
       "       ...,\n",
       "       ['TopAdressen', 100, '12', 5.49, 3.0, 1],\n",
       "       ['Dictate + Connect (Dictamus)', 500, '13', 9.98, 3.29, 35],\n",
       "       ['top Unkraut 2014', 500, '45', 14.49, 4.11, 9]], dtype=object)"
      ]
     },
     "execution_count": 71,
     "metadata": {},
     "output_type": "execute_result"
    }
   ],
   "source": [
    "valores"
   ]
  },
  {
   "cell_type": "code",
   "execution_count": 73,
   "metadata": {},
   "outputs": [
    {
     "data": {
      "text/plain": [
       "Index(['app', 'numDownloads', 'size', 'price', 'aggregateRating',\n",
       "       'ratingCount'],\n",
       "      dtype='object')"
      ]
     },
     "execution_count": 73,
     "metadata": {},
     "output_type": "execute_result"
    }
   ],
   "source": [
    "colunas"
   ]
  },
  {
   "cell_type": "code",
   "execution_count": 77,
   "metadata": {},
   "outputs": [
    {
     "data": {
      "text/plain": [
       "Int64Index([     0,      1,      2,      3,      4,      5,      6,      7,\n",
       "                 8,      9,\n",
       "            ...\n",
       "            403898, 403899, 403900, 403901, 403902, 403903, 403904, 403905,\n",
       "            403906, 403907],\n",
       "           dtype='int64', length=403898)"
      ]
     },
     "execution_count": 77,
     "metadata": {},
     "output_type": "execute_result"
    }
   ],
   "source": [
    "indices"
   ]
  },
  {
   "cell_type": "code",
   "execution_count": 78,
   "metadata": {},
   "outputs": [
    {
     "data": {
      "text/plain": [
       "array([500, 500, 500, ..., 100, 500, 500])"
      ]
     },
     "execution_count": 78,
     "metadata": {},
     "output_type": "execute_result"
    }
   ],
   "source": [
    "downloads"
   ]
  },
  {
   "cell_type": "code",
   "execution_count": 79,
   "metadata": {},
   "outputs": [
    {
     "data": {
      "text/plain": [
       "array([ 0.  ,  0.  ,  0.  , ...,  5.49,  9.98, 14.49])"
      ]
     },
     "execution_count": 79,
     "metadata": {},
     "output_type": "execute_result"
    }
   ],
   "source": [
    "preco"
   ]
  },
  {
   "cell_type": "code",
   "execution_count": 55,
   "metadata": {},
   "outputs": [
    {
     "name": "stderr",
     "output_type": "stream",
     "text": [
      "/home/romerito/anaconda3/lib/python3.7/site-packages/ipykernel_launcher.py:1: FutureWarning: `get_dtype_counts` has been deprecated and will be removed in a future version. For DataFrames use `.dtypes.value_counts()\n",
      "  \"\"\"Entry point for launching an IPython kernel.\n"
     ]
    },
    {
     "data": {
      "text/plain": [
       "float64    2\n",
       "int64      2\n",
       "object     2\n",
       "dtype: int64"
      ]
     },
     "execution_count": 55,
     "metadata": {},
     "output_type": "execute_result"
    }
   ],
   "source": [
    "app.get_dtype_counts()"
   ]
  },
  {
   "cell_type": "markdown",
   "metadata": {},
   "source": [
    "app.to_csv(\"appStore.csv\", index=False)"
   ]
  },
  {
   "cell_type": "code",
   "execution_count": 56,
   "metadata": {},
   "outputs": [
    {
     "data": {
      "text/plain": [
       "????                              0.005764\n",
       "?????                             0.004284\n",
       "??????                            0.004154\n",
       "???????                           0.002827\n",
       "????????                          0.002321\n",
       "                                    ...   \n",
       "Countdown Maths Game              0.000003\n",
       "SPINNER ???                       0.000003\n",
       "Block Warfare: Medieval (FREE)    0.000003\n",
       "Download and Unzip                0.000003\n",
       "Leder-Tastatur                    0.000003\n",
       "Name: app, Length: 370537, dtype: float64"
      ]
     },
     "execution_count": 56,
     "metadata": {},
     "output_type": "execute_result"
    }
   ],
   "source": [
    "app.app.value_counts(normalize=True)"
   ]
  },
  {
   "cell_type": "code",
   "execution_count": 57,
   "metadata": {},
   "outputs": [
    {
     "data": {
      "text/plain": [
       "0         True\n",
       "1         True\n",
       "2         True\n",
       "3         True\n",
       "4         True\n",
       "          ... \n",
       "403903    True\n",
       "403904    True\n",
       "403905    True\n",
       "403906    True\n",
       "403907    True\n",
       "Name: app, Length: 403898, dtype: bool"
      ]
     },
     "execution_count": 57,
     "metadata": {},
     "output_type": "execute_result"
    }
   ],
   "source": [
    "app.app.notnull()"
   ]
  },
  {
   "cell_type": "code",
   "execution_count": null,
   "metadata": {},
   "outputs": [],
   "source": [
    "'quantas linhas e colunas temos?'\n",
    "print(app.shape)"
   ]
  },
  {
   "cell_type": "code",
   "execution_count": null,
   "metadata": {},
   "outputs": [],
   "source": [
    "app.drop('index', axis=0, inplace=True)"
   ]
  },
  {
   "cell_type": "code",
   "execution_count": null,
   "metadata": {},
   "outputs": [],
   "source": [
    "app"
   ]
  },
  {
   "cell_type": "code",
   "execution_count": 58,
   "metadata": {},
   "outputs": [
    {
     "data": {
      "text/html": [
       "<div>\n",
       "<style scoped>\n",
       "    .dataframe tbody tr th:only-of-type {\n",
       "        vertical-align: middle;\n",
       "    }\n",
       "\n",
       "    .dataframe tbody tr th {\n",
       "        vertical-align: top;\n",
       "    }\n",
       "\n",
       "    .dataframe thead th {\n",
       "        text-align: right;\n",
       "    }\n",
       "</style>\n",
       "<table border=\"1\" class=\"dataframe\">\n",
       "  <thead>\n",
       "    <tr style=\"text-align: right;\">\n",
       "      <th></th>\n",
       "      <th>app</th>\n",
       "    </tr>\n",
       "  </thead>\n",
       "  <tbody>\n",
       "    <tr>\n",
       "      <th>151271</th>\n",
       "      <td>!! Put Him In The Doghouse !!</td>\n",
       "    </tr>\n",
       "    <tr>\n",
       "      <th>232090</th>\n",
       "      <td>!!!offline (Lichtschranke)</td>\n",
       "    </tr>\n",
       "    <tr>\n",
       "      <th>316098</th>\n",
       "      <td>!Rendezvous!</td>\n",
       "    </tr>\n",
       "    <tr>\n",
       "      <th>69924</th>\n",
       "      <td>!Share+</td>\n",
       "    </tr>\n",
       "    <tr>\n",
       "      <th>331993</th>\n",
       "      <td>!ShareFree</td>\n",
       "    </tr>\n",
       "    <tr>\n",
       "      <th>...</th>\n",
       "      <td>...</td>\n",
       "    </tr>\n",
       "    <tr>\n",
       "      <th>403495</th>\n",
       "      <td>NaN</td>\n",
       "    </tr>\n",
       "    <tr>\n",
       "      <th>403515</th>\n",
       "      <td>NaN</td>\n",
       "    </tr>\n",
       "    <tr>\n",
       "      <th>403519</th>\n",
       "      <td>NaN</td>\n",
       "    </tr>\n",
       "    <tr>\n",
       "      <th>403521</th>\n",
       "      <td>NaN</td>\n",
       "    </tr>\n",
       "    <tr>\n",
       "      <th>403529</th>\n",
       "      <td>NaN</td>\n",
       "    </tr>\n",
       "  </tbody>\n",
       "</table>\n",
       "<p>403898 rows × 1 columns</p>\n",
       "</div>"
      ],
      "text/plain": [
       "                                  app\n",
       "151271  !! Put Him In The Doghouse !!\n",
       "232090     !!!offline (Lichtschranke)\n",
       "316098                   !Rendezvous!\n",
       "69924                         !Share+\n",
       "331993                     !ShareFree\n",
       "...                               ...\n",
       "403495                            NaN\n",
       "403515                            NaN\n",
       "403519                            NaN\n",
       "403521                            NaN\n",
       "403529                            NaN\n",
       "\n",
       "[403898 rows x 1 columns]"
      ]
     },
     "execution_count": 58,
     "metadata": {},
     "output_type": "execute_result"
    }
   ],
   "source": [
    "app[['app']].sort_values(by='app',ascending=True)"
   ]
  },
  {
   "cell_type": "code",
   "execution_count": 80,
   "metadata": {},
   "outputs": [],
   "source": [
    "app.to_csv(\"appsnovos.csv\", index=False)"
   ]
  },
  {
   "cell_type": "code",
   "execution_count": 81,
   "metadata": {},
   "outputs": [
    {
     "name": "stdout",
     "output_type": "stream",
     "text": [
      "app,numDownloads,size,price,aggregateRating,ratingCount\n",
      "FSP Power App,500,12,0.0,3.97,31\n",
      "FSP Autofahrer-App,500,1.3,0.0,3.82,11\n",
      "Art-picnic FSP,500,2.7,0.0,4.72,18\n",
      "Tennis F.S.P,1,4.5,0.0,0.0,0\n",
      "Super Piano FREE HD,100000,4.1,0.0,3.98,1545\n",
      "DMC-FZ1000 Tutorial,100,8.2,0.0,1.0,2\n",
      "Beach Buggy Racing,1000000,75,0.0,4.25,72359\n",
      "LEGO® Juniors Create &amp; Cruise,10000000,37,0.0,3.89,134796\n",
      "ABC School,1000,391k,0.0,4.11,19\n"
     ]
    }
   ],
   "source": [
    "!head appsnovos.csv"
   ]
  }
 ],
 "metadata": {
  "kernelspec": {
   "display_name": "Python 3",
   "language": "python",
   "name": "python3"
  },
  "language_info": {
   "codemirror_mode": {
    "name": "ipython",
    "version": 3
   },
   "file_extension": ".py",
   "mimetype": "text/x-python",
   "name": "python",
   "nbconvert_exporter": "python",
   "pygments_lexer": "ipython3",
   "version": "3.7.5"
  }
 },
 "nbformat": 4,
 "nbformat_minor": 4
}
